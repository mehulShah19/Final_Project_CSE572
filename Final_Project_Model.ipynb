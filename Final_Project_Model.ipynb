{
 "cells": [
  {
   "cell_type": "code",
   "execution_count": 1,
   "metadata": {
    "collapsed": true
   },
   "outputs": [],
   "source": [
    "import numpy as np\n",
    "import pandas as pd"
   ]
  },
  {
   "cell_type": "code",
   "execution_count": 2,
   "metadata": {},
   "outputs": [
    {
     "name": "stderr",
     "output_type": "stream",
     "text": [
      "/Users/edplus/anaconda/lib/python2.7/site-packages/sklearn/cross_validation.py:44: DeprecationWarning: This module was deprecated in version 0.18 in favor of the model_selection module into which all the refactored classes and functions are moved. Also note that the interface of the new CV iterators are different from that of this module. This module will be removed in 0.20.\n",
      "  \"This module will be removed in 0.20.\", DeprecationWarning)\n",
      "/Users/edplus/anaconda/lib/python2.7/site-packages/sklearn/grid_search.py:43: DeprecationWarning: This module was deprecated in version 0.18 in favor of the model_selection module into which all the refactored classes and functions are moved. This module will be removed in 0.20.\n",
      "  DeprecationWarning)\n"
     ]
    }
   ],
   "source": [
    "# Model Imports\n",
    "from sklearn.tree import DecisionTreeClassifier\n",
    "from sklearn.grid_search import GridSearchCV\n",
    "from sklearn.metrics import make_scorer\n",
    "from sklearn.metrics import confusion_matrix\n",
    "from sklearn.ensemble import RandomForestClassifier\n",
    "from sklearn.svm import SVC\n",
    "from sklearn.model_selection import KFold\n",
    "from sklearn.ensemble import GradientBoostingClassifier\n",
    "from sklearn.ensemble import AdaBoostClassifier\n",
    "from sklearn.linear_model import LogisticRegression\n",
    "from sklearn.linear_model import SGDClassifier\n",
    "from xgboost import XGBClassifier"
   ]
  },
  {
   "cell_type": "code",
   "execution_count": 3,
   "metadata": {
    "collapsed": true
   },
   "outputs": [],
   "source": [
    "from sklearn.metrics import accuracy_score\n",
    "from sklearn.model_selection import train_test_split"
   ]
  },
  {
   "cell_type": "code",
   "execution_count": 4,
   "metadata": {
    "collapsed": true
   },
   "outputs": [],
   "source": [
    "X_train_df = pd.read_csv('train_trim_X.csv')\n",
    "\n",
    "Y_Train_df = pd.read_csv('trainlabel.txt')\n",
    "Y_Train_df = Y_Train_df['Class']"
   ]
  },
  {
   "cell_type": "code",
   "execution_count": 5,
   "metadata": {},
   "outputs": [
    {
     "data": {
      "text/html": [
       "<div>\n",
       "<table border=\"1\" class=\"dataframe\">\n",
       "  <thead>\n",
       "    <tr style=\"text-align: right;\">\n",
       "      <th></th>\n",
       "      <th>Unnamed: 0</th>\n",
       "      <th>ID</th>\n",
       "      <th>1</th>\n",
       "      <th>6</th>\n",
       "      <th>8</th>\n",
       "      <th>10</th>\n",
       "      <th>14</th>\n",
       "      <th>15</th>\n",
       "      <th>16</th>\n",
       "      <th>17</th>\n",
       "      <th>...</th>\n",
       "      <th>4988</th>\n",
       "      <th>4990</th>\n",
       "      <th>4991</th>\n",
       "      <th>4992</th>\n",
       "      <th>4994</th>\n",
       "      <th>4995</th>\n",
       "      <th>4996</th>\n",
       "      <th>4997</th>\n",
       "      <th>4999</th>\n",
       "      <th>5000</th>\n",
       "    </tr>\n",
       "  </thead>\n",
       "  <tbody>\n",
       "    <tr>\n",
       "      <th>0</th>\n",
       "      <td>0</td>\n",
       "      <td>1</td>\n",
       "      <td>0</td>\n",
       "      <td>0</td>\n",
       "      <td>945</td>\n",
       "      <td>523</td>\n",
       "      <td>773</td>\n",
       "      <td>0</td>\n",
       "      <td>0</td>\n",
       "      <td>0</td>\n",
       "      <td>...</td>\n",
       "      <td>0</td>\n",
       "      <td>0</td>\n",
       "      <td>0</td>\n",
       "      <td>0</td>\n",
       "      <td>983</td>\n",
       "      <td>0</td>\n",
       "      <td>0</td>\n",
       "      <td>983</td>\n",
       "      <td>0</td>\n",
       "      <td>0</td>\n",
       "    </tr>\n",
       "    <tr>\n",
       "      <th>1</th>\n",
       "      <td>1</td>\n",
       "      <td>2</td>\n",
       "      <td>0</td>\n",
       "      <td>0</td>\n",
       "      <td>0</td>\n",
       "      <td>0</td>\n",
       "      <td>806</td>\n",
       "      <td>995</td>\n",
       "      <td>0</td>\n",
       "      <td>0</td>\n",
       "      <td>...</td>\n",
       "      <td>980</td>\n",
       "      <td>0</td>\n",
       "      <td>995</td>\n",
       "      <td>0</td>\n",
       "      <td>976</td>\n",
       "      <td>0</td>\n",
       "      <td>0</td>\n",
       "      <td>0</td>\n",
       "      <td>983</td>\n",
       "      <td>898</td>\n",
       "    </tr>\n",
       "    <tr>\n",
       "      <th>2</th>\n",
       "      <td>2</td>\n",
       "      <td>3</td>\n",
       "      <td>0</td>\n",
       "      <td>0</td>\n",
       "      <td>0</td>\n",
       "      <td>991</td>\n",
       "      <td>0</td>\n",
       "      <td>991</td>\n",
       "      <td>0</td>\n",
       "      <td>987</td>\n",
       "      <td>...</td>\n",
       "      <td>819</td>\n",
       "      <td>983</td>\n",
       "      <td>0</td>\n",
       "      <td>987</td>\n",
       "      <td>770</td>\n",
       "      <td>0</td>\n",
       "      <td>0</td>\n",
       "      <td>0</td>\n",
       "      <td>0</td>\n",
       "      <td>0</td>\n",
       "    </tr>\n",
       "    <tr>\n",
       "      <th>3</th>\n",
       "      <td>3</td>\n",
       "      <td>4</td>\n",
       "      <td>0</td>\n",
       "      <td>473</td>\n",
       "      <td>802</td>\n",
       "      <td>0</td>\n",
       "      <td>0</td>\n",
       "      <td>874</td>\n",
       "      <td>0</td>\n",
       "      <td>0</td>\n",
       "      <td>...</td>\n",
       "      <td>0</td>\n",
       "      <td>0</td>\n",
       "      <td>979</td>\n",
       "      <td>0</td>\n",
       "      <td>999</td>\n",
       "      <td>0</td>\n",
       "      <td>0</td>\n",
       "      <td>0</td>\n",
       "      <td>0</td>\n",
       "      <td>0</td>\n",
       "    </tr>\n",
       "    <tr>\n",
       "      <th>4</th>\n",
       "      <td>4</td>\n",
       "      <td>5</td>\n",
       "      <td>0</td>\n",
       "      <td>0</td>\n",
       "      <td>905</td>\n",
       "      <td>0</td>\n",
       "      <td>764</td>\n",
       "      <td>576</td>\n",
       "      <td>0</td>\n",
       "      <td>0</td>\n",
       "      <td>...</td>\n",
       "      <td>991</td>\n",
       "      <td>0</td>\n",
       "      <td>0</td>\n",
       "      <td>0</td>\n",
       "      <td>991</td>\n",
       "      <td>0</td>\n",
       "      <td>0</td>\n",
       "      <td>0</td>\n",
       "      <td>0</td>\n",
       "      <td>0</td>\n",
       "    </tr>\n",
       "  </tbody>\n",
       "</table>\n",
       "<p>5 rows × 2344 columns</p>\n",
       "</div>"
      ],
      "text/plain": [
       "   Unnamed: 0  ID  1    6    8   10   14   15  16   17  ...   4988  4990  \\\n",
       "0           0   1  0    0  945  523  773    0   0    0  ...      0     0   \n",
       "1           1   2  0    0    0    0  806  995   0    0  ...    980     0   \n",
       "2           2   3  0    0    0  991    0  991   0  987  ...    819   983   \n",
       "3           3   4  0  473  802    0    0  874   0    0  ...      0     0   \n",
       "4           4   5  0    0  905    0  764  576   0    0  ...    991     0   \n",
       "\n",
       "   4991  4992  4994  4995  4996  4997  4999  5000  \n",
       "0     0     0   983     0     0   983     0     0  \n",
       "1   995     0   976     0     0     0   983   898  \n",
       "2     0   987   770     0     0     0     0     0  \n",
       "3   979     0   999     0     0     0     0     0  \n",
       "4     0     0   991     0     0     0     0     0  \n",
       "\n",
       "[5 rows x 2344 columns]"
      ]
     },
     "execution_count": 5,
     "metadata": {},
     "output_type": "execute_result"
    }
   ],
   "source": [
    "X_train_df.head()"
   ]
  },
  {
   "cell_type": "code",
   "execution_count": 6,
   "metadata": {
    "collapsed": true
   },
   "outputs": [],
   "source": [
    "X_test_df = pd.read_csv('test_trim.csv')"
   ]
  },
  {
   "cell_type": "code",
   "execution_count": 7,
   "metadata": {},
   "outputs": [
    {
     "data": {
      "text/html": [
       "<div>\n",
       "<table border=\"1\" class=\"dataframe\">\n",
       "  <thead>\n",
       "    <tr style=\"text-align: right;\">\n",
       "      <th></th>\n",
       "      <th>Unnamed: 0</th>\n",
       "      <th>ID</th>\n",
       "      <th>1</th>\n",
       "      <th>6</th>\n",
       "      <th>8</th>\n",
       "      <th>10</th>\n",
       "      <th>14</th>\n",
       "      <th>15</th>\n",
       "      <th>16</th>\n",
       "      <th>17</th>\n",
       "      <th>...</th>\n",
       "      <th>4988</th>\n",
       "      <th>4990</th>\n",
       "      <th>4991</th>\n",
       "      <th>4992</th>\n",
       "      <th>4994</th>\n",
       "      <th>4995</th>\n",
       "      <th>4996</th>\n",
       "      <th>4997</th>\n",
       "      <th>4999</th>\n",
       "      <th>5000</th>\n",
       "    </tr>\n",
       "  </thead>\n",
       "  <tbody>\n",
       "    <tr>\n",
       "      <th>0</th>\n",
       "      <td>0</td>\n",
       "      <td>1</td>\n",
       "      <td>688</td>\n",
       "      <td>0</td>\n",
       "      <td>952</td>\n",
       "      <td>870</td>\n",
       "      <td>0</td>\n",
       "      <td>999</td>\n",
       "      <td>0</td>\n",
       "      <td>0</td>\n",
       "      <td>...</td>\n",
       "      <td>976</td>\n",
       "      <td>635</td>\n",
       "      <td>0</td>\n",
       "      <td>0</td>\n",
       "      <td>0</td>\n",
       "      <td>0</td>\n",
       "      <td>0</td>\n",
       "      <td>494</td>\n",
       "      <td>769</td>\n",
       "      <td>0</td>\n",
       "    </tr>\n",
       "    <tr>\n",
       "      <th>1</th>\n",
       "      <td>1</td>\n",
       "      <td>2</td>\n",
       "      <td>778</td>\n",
       "      <td>0</td>\n",
       "      <td>708</td>\n",
       "      <td>991</td>\n",
       "      <td>0</td>\n",
       "      <td>991</td>\n",
       "      <td>0</td>\n",
       "      <td>0</td>\n",
       "      <td>...</td>\n",
       "      <td>925</td>\n",
       "      <td>0</td>\n",
       "      <td>0</td>\n",
       "      <td>0</td>\n",
       "      <td>770</td>\n",
       "      <td>0</td>\n",
       "      <td>0</td>\n",
       "      <td>0</td>\n",
       "      <td>0</td>\n",
       "      <td>0</td>\n",
       "    </tr>\n",
       "    <tr>\n",
       "      <th>2</th>\n",
       "      <td>2</td>\n",
       "      <td>3</td>\n",
       "      <td>469</td>\n",
       "      <td>0</td>\n",
       "      <td>0</td>\n",
       "      <td>0</td>\n",
       "      <td>0</td>\n",
       "      <td>972</td>\n",
       "      <td>898</td>\n",
       "      <td>0</td>\n",
       "      <td>...</td>\n",
       "      <td>652</td>\n",
       "      <td>0</td>\n",
       "      <td>0</td>\n",
       "      <td>0</td>\n",
       "      <td>467</td>\n",
       "      <td>0</td>\n",
       "      <td>0</td>\n",
       "      <td>0</td>\n",
       "      <td>0</td>\n",
       "      <td>0</td>\n",
       "    </tr>\n",
       "    <tr>\n",
       "      <th>3</th>\n",
       "      <td>3</td>\n",
       "      <td>4</td>\n",
       "      <td>0</td>\n",
       "      <td>571</td>\n",
       "      <td>983</td>\n",
       "      <td>983</td>\n",
       "      <td>851</td>\n",
       "      <td>0</td>\n",
       "      <td>650</td>\n",
       "      <td>0</td>\n",
       "      <td>...</td>\n",
       "      <td>0</td>\n",
       "      <td>0</td>\n",
       "      <td>0</td>\n",
       "      <td>0</td>\n",
       "      <td>0</td>\n",
       "      <td>0</td>\n",
       "      <td>0</td>\n",
       "      <td>0</td>\n",
       "      <td>0</td>\n",
       "      <td>0</td>\n",
       "    </tr>\n",
       "    <tr>\n",
       "      <th>4</th>\n",
       "      <td>4</td>\n",
       "      <td>5</td>\n",
       "      <td>0</td>\n",
       "      <td>0</td>\n",
       "      <td>949</td>\n",
       "      <td>991</td>\n",
       "      <td>533</td>\n",
       "      <td>0</td>\n",
       "      <td>0</td>\n",
       "      <td>0</td>\n",
       "      <td>...</td>\n",
       "      <td>972</td>\n",
       "      <td>0</td>\n",
       "      <td>0</td>\n",
       "      <td>0</td>\n",
       "      <td>0</td>\n",
       "      <td>0</td>\n",
       "      <td>0</td>\n",
       "      <td>0</td>\n",
       "      <td>976</td>\n",
       "      <td>0</td>\n",
       "    </tr>\n",
       "  </tbody>\n",
       "</table>\n",
       "<p>5 rows × 2344 columns</p>\n",
       "</div>"
      ],
      "text/plain": [
       "   Unnamed: 0  ID    1    6    8   10   14   15   16  17  ...   4988  4990  \\\n",
       "0           0   1  688    0  952  870    0  999    0   0  ...    976   635   \n",
       "1           1   2  778    0  708  991    0  991    0   0  ...    925     0   \n",
       "2           2   3  469    0    0    0    0  972  898   0  ...    652     0   \n",
       "3           3   4    0  571  983  983  851    0  650   0  ...      0     0   \n",
       "4           4   5    0    0  949  991  533    0    0   0  ...    972     0   \n",
       "\n",
       "   4991  4992  4994  4995  4996  4997  4999  5000  \n",
       "0     0     0     0     0     0   494   769     0  \n",
       "1     0     0   770     0     0     0     0     0  \n",
       "2     0     0   467     0     0     0     0     0  \n",
       "3     0     0     0     0     0     0     0     0  \n",
       "4     0     0     0     0     0     0   976     0  \n",
       "\n",
       "[5 rows x 2344 columns]"
      ]
     },
     "execution_count": 7,
     "metadata": {},
     "output_type": "execute_result"
    }
   ],
   "source": [
    "X_test_df.head()"
   ]
  },
  {
   "cell_type": "code",
   "execution_count": 8,
   "metadata": {
    "collapsed": true
   },
   "outputs": [],
   "source": [
    "\n",
    "del X_train_df['Unnamed: 0']\n",
    "del X_train_df['ID']\n",
    "\n",
    "del X_test_df['Unnamed: 0']\n",
    "del X_test_df['ID']\n"
   ]
  },
  {
   "cell_type": "code",
   "execution_count": 9,
   "metadata": {
    "collapsed": true
   },
   "outputs": [],
   "source": [
    "X_train, X_test, y_train, y_test  = train_test_split(X_train_df, Y_Train_df, test_size = 0.2)"
   ]
  },
  {
   "cell_type": "code",
   "execution_count": 10,
   "metadata": {},
   "outputs": [
    {
     "name": "stdout",
     "output_type": "stream",
     "text": [
      "(5200, 2342)\n",
      "(1300, 2342)\n",
      "(5200,)\n",
      "(1300,)\n"
     ]
    }
   ],
   "source": [
    "print(X_train.shape)\n",
    "print(X_test.shape)\n",
    "print(y_train.shape)\n",
    "print(y_test.shape)\n"
   ]
  },
  {
   "cell_type": "code",
   "execution_count": 11,
   "metadata": {
    "collapsed": true
   },
   "outputs": [],
   "source": [
    "#decisionTreeClassifierModel = DecisionTreeClassifier()"
   ]
  },
  {
   "cell_type": "code",
   "execution_count": 12,
   "metadata": {
    "collapsed": true
   },
   "outputs": [],
   "source": [
    "#decisionTreeClassifierModel.fit(X_train,y_train)"
   ]
  },
  {
   "cell_type": "code",
   "execution_count": 13,
   "metadata": {
    "collapsed": true
   },
   "outputs": [],
   "source": [
    "def getAccuracyScore(model,X_test,y_test):\n",
    "    y_predicted = model.predict(X_test)\n",
    "    score = accuracy_score(y_test, y_predicted)\n",
    "    print(\"Accuracy Score-  \" + str(score))\n",
    "    confusion_matrix_array = confusion_matrix(y_test,y_predicted, labels=[-1,1])\n",
    "    TN  = confusion_matrix_array[0][0]\n",
    "    FP  = confusion_matrix_array[0][1]\n",
    "    FN  = confusion_matrix_array[1][0]\n",
    "    TP  = confusion_matrix_array[1][1]\n",
    "    print(TN,FP,FN,TP)\n",
    "    confusion_score = float(TP)/float((TP+FN)) + float(TN)/float((TN+FP))\n",
    "    print(\"Confusion_Score-  \" + str(confusion_score))\n",
    "    #return score\n"
   ]
  },
  {
   "cell_type": "code",
   "execution_count": 14,
   "metadata": {
    "collapsed": true
   },
   "outputs": [],
   "source": [
    "#Cross validation with different\n",
    "\n",
    "#X_train.head()\n"
   ]
  },
  {
   "cell_type": "code",
   "execution_count": 15,
   "metadata": {},
   "outputs": [
    {
     "name": "stderr",
     "output_type": "stream",
     "text": [
      "/Users/edplus/anaconda/lib/python2.7/site-packages/ipykernel_launcher.py:4: SettingWithCopyWarning: \n",
      "A value is trying to be set on a copy of a slice from a DataFrame.\n",
      "Try using .loc[row_indexer,col_indexer] = value instead\n",
      "\n",
      "See the caveats in the documentation: http://pandas.pydata.org/pandas-docs/stable/indexing.html#indexing-view-versus-copy\n",
      "  after removing the cwd from sys.path.\n"
     ]
    }
   ],
   "source": [
    "# Splitted using the kFold\n",
    "kf = KFold(n_splits=6)\n",
    "#KF = \n",
    "X_train['Class'] = y_train\n",
    "cv_x_train_list = []\n",
    "cv_y_train_list = []\n",
    "cv_x_test_list = []\n",
    "cv_y_test_list = []\n",
    "\n",
    "kff_train = X_train\n",
    "for train, test in kf.split(kff_train):   \n",
    "    temp_kff_train = kff_train.ix[train,:]\n",
    "    temp_kff_train = temp_kff_train.dropna(axis=0, how='all')\n",
    "    \n",
    "    temp_x_train = temp_kff_train.ix[:,0:-1]\n",
    "    temp_y_train = temp_kff_train.ix[:,-1]\n",
    "    \n",
    "    temp_kff_test = kff_train.ix[test,:]\n",
    "    temp_kff_test = temp_kff_test.dropna(axis=0, how='all')\n",
    "    \n",
    "    temp_x_test = temp_kff_test.ix[:,0:-1]\n",
    "    temp_y_test = temp_kff_test.ix[:,-1]\n",
    "    \n",
    "    cv_x_train_list.append(temp_x_train)\n",
    "    cv_y_train_list.append(temp_y_train)\n",
    "    cv_x_test_list.append(temp_x_test)\n",
    "    cv_y_test_list.append(temp_y_test)\n",
    "    "
   ]
  },
  {
   "cell_type": "code",
   "execution_count": 23,
   "metadata": {
    "scrolled": false
   },
   "outputs": [
    {
     "name": "stdout",
     "output_type": "stream",
     "text": [
      "Accuracy Score-  0.949712643678\n",
      "(333, 12, 23, 328)\n",
      "Confusion_Score-  1.89969032578\n",
      "Accuracy Score-  0.933846153846\n",
      "(591, 46, 40, 623)\n",
      "Confusion_Score-  1.86745467418\n",
      "------\n",
      "Accuracy Score-  0.922967189729\n",
      "(314, 29, 25, 333)\n",
      "Confusion_Score-  1.84561949281\n",
      "Accuracy Score-  0.933076923077\n",
      "(585, 52, 35, 628)\n",
      "Confusion_Score-  1.86557700003\n",
      "------\n",
      "Accuracy Score-  0.932178932179\n",
      "(321, 24, 23, 325)\n",
      "Confusion_Score-  1.86434282859\n",
      "Accuracy Score-  0.942307692308\n",
      "(591, 46, 29, 634)\n",
      "Confusion_Score-  1.88404592606\n",
      "------\n",
      "Accuracy Score-  0.928152492669\n",
      "(335, 22, 27, 298)\n",
      "Confusion_Score-  1.85529842706\n",
      "Accuracy Score-  0.930769230769\n",
      "(588, 49, 41, 622)\n",
      "Confusion_Score-  1.86123680241\n",
      "------\n",
      "Accuracy Score-  0.938395415473\n",
      "(322, 29, 14, 333)\n",
      "Confusion_Score-  1.87703309605\n",
      "Accuracy Score-  0.937692307692\n",
      "(587, 50, 31, 632)\n",
      "Confusion_Score-  1.87474989996\n",
      "------\n",
      "Accuracy Score-  0.922206506365\n",
      "(325, 27, 28, 327)\n",
      "Confusion_Score-  1.84442221511\n",
      "Accuracy Score-  0.933846153846\n",
      "(583, 54, 32, 631)\n",
      "Confusion_Score-  1.86696216948\n",
      "------\n"
     ]
    }
   ],
   "source": [
    "#model = RandomForestClassifier(n_estimators=500,n_jobs=-1)\n",
    "\n",
    "\n",
    "# model = RandomForestClassifier(bootstrap=True, class_weight=None, criterion='gini',\n",
    "#             max_depth=None, max_features='auto', max_leaf_nodes=None,\n",
    "#             min_impurity_split=1e-07, min_samples_leaf=1,\n",
    "#             min_samples_split=2, min_weight_fraction_leaf=0.0,\n",
    "#             n_estimators=10, n_jobs=1, oob_score=False, random_state=None,\n",
    "#             verbose=0, warm_start=False)\n",
    "\n",
    "#svc  = SVC()\n",
    "#gradientModel = GradientBoostingClassifier(n_estimators=500)\n",
    "#model = gradientModel\n",
    "\n",
    "#model = SVC(kernel='poly',C=0.1)\n",
    "#model = RandomForestClassifier(n_estimators=500,n_jobs=-1, max_depth=7)\n",
    "\n",
    "\n",
    "'''   'max_depth':[5,7,10,None],\n",
    "              #'max_features':[10,20,40,None],\n",
    "              'min_samples_leaf':[1,5,10],\n",
    "              'n_estimators':[50,100,500],\n",
    "              'max_leaf_nodes':[100,150,500,None]\n",
    "              \n",
    "              '''\n",
    "   \n",
    "# for depth in [2,5,7,10,20,None]:\n",
    "#     for features in [10,20,40,100,200,None]:\n",
    "#         for max_leaf_nodes in [100,150,500,None]:\n",
    "\n",
    "#depth = None\n",
    "#features =40\n",
    "#max_leaf_nodes =100 \n",
    "#model = GradientBoostingClassifier(\n",
    "#                max_depth=depth,max_features=features,max_leaf_nodes=max_leaf_nodes)\n",
    "\n",
    "\n",
    "model1 = XGBClassifier()\n",
    "model2 = RandomForestClassifier(max_depth=None, max_features=200,max_leaf_nodes=150)\n",
    "model3 = GradientBoostingClassifier(max_depth=4, max_features=40,max_leaf_nodes=500)\n",
    "\n",
    "\n",
    "def getAccuracyScore1(y_predicted,X_test,y_test):\n",
    "    #y_predicted = model.predict(X_test)\n",
    "    score = accuracy_score(y_test, y_predicted)\n",
    "    print(\"Accuracy Score-  \" + str(score))\n",
    "    confusion_matrix_array = confusion_matrix(y_test,y_predicted, labels=[-1,1])\n",
    "    TN  = confusion_matrix_array[0][0]\n",
    "    FP  = confusion_matrix_array[0][1]\n",
    "    FN  = confusion_matrix_array[1][0]\n",
    "    TP  = confusion_matrix_array[1][1]\n",
    "    print(TN,FP,FN,TP)\n",
    "    confusion_score = float(TP)/float((TP+FN)) + float(TN)/float((TN+FP))\n",
    "    print(\"Confusion_Score-  \" + str(confusion_score))\n",
    "    \n",
    "\n",
    "for i in range(0,6):\n",
    "#         print(depth)\n",
    "#         print(features)\n",
    "#         print(max_leaf_nodes)\n",
    "        model1.fit(cv_x_train_list[i], cv_y_train_list[i])\n",
    "        model2.fit(cv_x_train_list[i], cv_y_train_list[i])\n",
    "        model3.fit(cv_x_train_list[i], cv_y_train_list[i])\n",
    "        y_predicted1= model1.predict(cv_x_test_list[i])\n",
    "        y_predicted2= model2.predict(cv_x_test_list[i])\n",
    "        y_predicted3= model3.predict(cv_x_test_list[i])\n",
    "        y_predicted = y_predicted1 + y_predicted2 + y_predicted3\n",
    "        y_predicted_array = []\n",
    "\n",
    "        for arr in y_predicted:\n",
    "            if(arr < 0):\n",
    "                y_predicted_array.append(-1)\n",
    "            else:\n",
    "                y_predicted_array.append(1)\n",
    "        #y_predicted_array\n",
    "        \n",
    "        getAccuracyScore1(y_predicted_array,X_test=cv_x_test_list[i], y_test=  cv_y_test_list[i])\n",
    "        \n",
    "        \n",
    "        y_predicted1= model1.predict(X_test)\n",
    "        y_predicted2= model2.predict(X_test)\n",
    "        y_predicted3= model3.predict(X_test)\n",
    "                \n",
    "        y_predicted = y_predicted1 + y_predicted2 + y_predicted3\n",
    "        y_predicted_array = []\n",
    "\n",
    "        for arr in y_predicted:\n",
    "            if(arr < 0):\n",
    "                y_predicted_array.append(-1)\n",
    "            else:\n",
    "                y_predicted_array.append(1)\n",
    "        #y_predicted_array\n",
    "        getAccuracyScore1(y_predicted_array,X_test=X_test,y_test=y_test)\n",
    "        print(\"------\")\n"
   ]
  },
  {
   "cell_type": "code",
   "execution_count": 30,
   "metadata": {
    "collapsed": true
   },
   "outputs": [],
   "source": [
    "del X_train['Class']"
   ]
  },
  {
   "cell_type": "code",
   "execution_count": 31,
   "metadata": {},
   "outputs": [
    {
     "name": "stdout",
     "output_type": "stream",
     "text": [
      "Accuracy Score-  0.936923076923\n",
      "(586, 51, 31, 632)\n",
      "Confusion_Score-  1.87318004125\n"
     ]
    }
   ],
   "source": [
    "model1.fit(X_train,y_train)\n",
    "model2.fit(X_train,y_train)\n",
    "model3.fit(X_train,y_train)\n",
    "\n",
    "y_predicted1= model1.predict(X_test)\n",
    "y_predicted2= model2.predict(X_test)\n",
    "y_predicted3= model3.predict(X_test)\n",
    "                \n",
    "y_predicted = y_predicted1 + y_predicted2 + y_predicted3\n",
    "y_predicted_array = []\n",
    "\n",
    "for arr in y_predicted:\n",
    "    if(arr < 0):\n",
    "        y_predicted_array.append(-1)\n",
    "    else:\n",
    "        y_predicted_array.append(1)\n",
    "\n",
    "\n",
    "getAccuracyScore1(y_predicted_array,X_test,y_test)\n"
   ]
  },
  {
   "cell_type": "code",
   "execution_count": 33,
   "metadata": {},
   "outputs": [
    {
     "name": "stdout",
     "output_type": "stream",
     "text": [
      "(1000, 2342)\n"
     ]
    }
   ],
   "source": [
    "print(X_test_df.shape)\n",
    "y_predicted1= model1.predict(X_test_df)\n",
    "y_predicted2= model2.predict(X_test_df)\n",
    "y_predicted3= model3.predict(X_test_df)\n",
    "                \n",
    "y_predicted = y_predicted1 + y_predicted2 + y_predicted3\n",
    "y_predicted_array = []\n",
    "\n",
    "for arr in y_predicted:\n",
    "    if(arr < 0):\n",
    "        y_predicted_array.append(-1)\n",
    "    else:\n",
    "        y_predicted_array.append(1)\n",
    "\n",
    "\n",
    "np.savetxt('result2.txt',y_predicted_array)"
   ]
  },
  {
   "cell_type": "code",
   "execution_count": 29,
   "metadata": {},
   "outputs": [
    {
     "data": {
      "text/html": [
       "<div>\n",
       "<table border=\"1\" class=\"dataframe\">\n",
       "  <thead>\n",
       "    <tr style=\"text-align: right;\">\n",
       "      <th></th>\n",
       "      <th>1</th>\n",
       "      <th>6</th>\n",
       "      <th>8</th>\n",
       "      <th>10</th>\n",
       "      <th>14</th>\n",
       "      <th>15</th>\n",
       "      <th>16</th>\n",
       "      <th>17</th>\n",
       "      <th>20</th>\n",
       "      <th>21</th>\n",
       "      <th>...</th>\n",
       "      <th>4990</th>\n",
       "      <th>4991</th>\n",
       "      <th>4992</th>\n",
       "      <th>4994</th>\n",
       "      <th>4995</th>\n",
       "      <th>4996</th>\n",
       "      <th>4997</th>\n",
       "      <th>4999</th>\n",
       "      <th>5000</th>\n",
       "      <th>Class</th>\n",
       "    </tr>\n",
       "  </thead>\n",
       "  <tbody>\n",
       "    <tr>\n",
       "      <th>211</th>\n",
       "      <td>980</td>\n",
       "      <td>686</td>\n",
       "      <td>929</td>\n",
       "      <td>0</td>\n",
       "      <td>976</td>\n",
       "      <td>921</td>\n",
       "      <td>0</td>\n",
       "      <td>0</td>\n",
       "      <td>0</td>\n",
       "      <td>0</td>\n",
       "      <td>...</td>\n",
       "      <td>0</td>\n",
       "      <td>995</td>\n",
       "      <td>0</td>\n",
       "      <td>0</td>\n",
       "      <td>0</td>\n",
       "      <td>0</td>\n",
       "      <td>0</td>\n",
       "      <td>0</td>\n",
       "      <td>0</td>\n",
       "      <td>-1</td>\n",
       "    </tr>\n",
       "    <tr>\n",
       "      <th>6025</th>\n",
       "      <td>0</td>\n",
       "      <td>0</td>\n",
       "      <td>976</td>\n",
       "      <td>0</td>\n",
       "      <td>0</td>\n",
       "      <td>995</td>\n",
       "      <td>0</td>\n",
       "      <td>0</td>\n",
       "      <td>0</td>\n",
       "      <td>0</td>\n",
       "      <td>...</td>\n",
       "      <td>0</td>\n",
       "      <td>913</td>\n",
       "      <td>0</td>\n",
       "      <td>0</td>\n",
       "      <td>0</td>\n",
       "      <td>0</td>\n",
       "      <td>941</td>\n",
       "      <td>0</td>\n",
       "      <td>0</td>\n",
       "      <td>-1</td>\n",
       "    </tr>\n",
       "    <tr>\n",
       "      <th>842</th>\n",
       "      <td>0</td>\n",
       "      <td>0</td>\n",
       "      <td>0</td>\n",
       "      <td>0</td>\n",
       "      <td>0</td>\n",
       "      <td>999</td>\n",
       "      <td>631</td>\n",
       "      <td>999</td>\n",
       "      <td>0</td>\n",
       "      <td>0</td>\n",
       "      <td>...</td>\n",
       "      <td>0</td>\n",
       "      <td>0</td>\n",
       "      <td>999</td>\n",
       "      <td>941</td>\n",
       "      <td>0</td>\n",
       "      <td>0</td>\n",
       "      <td>0</td>\n",
       "      <td>0</td>\n",
       "      <td>501</td>\n",
       "      <td>1</td>\n",
       "    </tr>\n",
       "    <tr>\n",
       "      <th>2798</th>\n",
       "      <td>0</td>\n",
       "      <td>0</td>\n",
       "      <td>0</td>\n",
       "      <td>0</td>\n",
       "      <td>0</td>\n",
       "      <td>995</td>\n",
       "      <td>0</td>\n",
       "      <td>0</td>\n",
       "      <td>0</td>\n",
       "      <td>0</td>\n",
       "      <td>...</td>\n",
       "      <td>0</td>\n",
       "      <td>0</td>\n",
       "      <td>0</td>\n",
       "      <td>0</td>\n",
       "      <td>0</td>\n",
       "      <td>0</td>\n",
       "      <td>991</td>\n",
       "      <td>0</td>\n",
       "      <td>976</td>\n",
       "      <td>-1</td>\n",
       "    </tr>\n",
       "    <tr>\n",
       "      <th>2912</th>\n",
       "      <td>0</td>\n",
       "      <td>0</td>\n",
       "      <td>0</td>\n",
       "      <td>0</td>\n",
       "      <td>0</td>\n",
       "      <td>956</td>\n",
       "      <td>0</td>\n",
       "      <td>0</td>\n",
       "      <td>0</td>\n",
       "      <td>0</td>\n",
       "      <td>...</td>\n",
       "      <td>0</td>\n",
       "      <td>0</td>\n",
       "      <td>0</td>\n",
       "      <td>0</td>\n",
       "      <td>0</td>\n",
       "      <td>991</td>\n",
       "      <td>0</td>\n",
       "      <td>0</td>\n",
       "      <td>0</td>\n",
       "      <td>-1</td>\n",
       "    </tr>\n",
       "  </tbody>\n",
       "</table>\n",
       "<p>5 rows × 2343 columns</p>\n",
       "</div>"
      ],
      "text/plain": [
       "        1    6    8  10   14   15   16   17  20  21  ...    4990  4991  4992  \\\n",
       "211   980  686  929   0  976  921    0    0   0   0  ...       0   995     0   \n",
       "6025    0    0  976   0    0  995    0    0   0   0  ...       0   913     0   \n",
       "842     0    0    0   0    0  999  631  999   0   0  ...       0     0   999   \n",
       "2798    0    0    0   0    0  995    0    0   0   0  ...       0     0     0   \n",
       "2912    0    0    0   0    0  956    0    0   0   0  ...       0     0     0   \n",
       "\n",
       "      4994  4995  4996  4997  4999  5000  Class  \n",
       "211      0     0     0     0     0     0     -1  \n",
       "6025     0     0     0   941     0     0     -1  \n",
       "842    941     0     0     0     0   501      1  \n",
       "2798     0     0     0   991     0   976     -1  \n",
       "2912     0     0   991     0     0     0     -1  \n",
       "\n",
       "[5 rows x 2343 columns]"
      ]
     },
     "execution_count": 29,
     "metadata": {},
     "output_type": "execute_result"
    }
   ],
   "source": []
  },
  {
   "cell_type": "code",
   "execution_count": 18,
   "metadata": {},
   "outputs": [
    {
     "ename": "ValueError",
     "evalue": "Number of features of the model must match the input. Model n_features is 2343 and input n_features is 2342 ",
     "output_type": "error",
     "traceback": [
      "\u001b[0;31m---------------------------------------------------------------------------\u001b[0m",
      "\u001b[0;31mValueError\u001b[0m                                Traceback (most recent call last)",
      "\u001b[0;32m<ipython-input-18-5e434755278a>\u001b[0m in \u001b[0;36m<module>\u001b[0;34m()\u001b[0m\n\u001b[1;32m      1\u001b[0m \u001b[0mmodel\u001b[0m \u001b[0;34m=\u001b[0m \u001b[0mRandomForestClassifier\u001b[0m\u001b[0;34m(\u001b[0m\u001b[0mn_estimators\u001b[0m\u001b[0;34m=\u001b[0m\u001b[0;36m500\u001b[0m\u001b[0;34m,\u001b[0m\u001b[0mn_jobs\u001b[0m\u001b[0;34m=\u001b[0m\u001b[0;34m-\u001b[0m\u001b[0;36m1\u001b[0m\u001b[0;34m)\u001b[0m\u001b[0;34m\u001b[0m\u001b[0m\n\u001b[1;32m      2\u001b[0m \u001b[0mmodel\u001b[0m\u001b[0;34m.\u001b[0m\u001b[0mfit\u001b[0m\u001b[0;34m(\u001b[0m\u001b[0mX_train\u001b[0m\u001b[0;34m,\u001b[0m\u001b[0my_train\u001b[0m\u001b[0;34m)\u001b[0m\u001b[0;34m\u001b[0m\u001b[0m\n\u001b[0;32m----> 3\u001b[0;31m \u001b[0mgetAccuracyScore\u001b[0m\u001b[0;34m(\u001b[0m\u001b[0mmodel\u001b[0m\u001b[0;34m,\u001b[0m\u001b[0mX_test\u001b[0m\u001b[0;34m,\u001b[0m\u001b[0my_test\u001b[0m\u001b[0;34m)\u001b[0m\u001b[0;34m\u001b[0m\u001b[0m\n\u001b[0m",
      "\u001b[0;32m<ipython-input-13-e0ce41dd9292>\u001b[0m in \u001b[0;36mgetAccuracyScore\u001b[0;34m(model, X_test, y_test)\u001b[0m\n\u001b[1;32m      1\u001b[0m \u001b[0;32mdef\u001b[0m \u001b[0mgetAccuracyScore\u001b[0m\u001b[0;34m(\u001b[0m\u001b[0mmodel\u001b[0m\u001b[0;34m,\u001b[0m\u001b[0mX_test\u001b[0m\u001b[0;34m,\u001b[0m\u001b[0my_test\u001b[0m\u001b[0;34m)\u001b[0m\u001b[0;34m:\u001b[0m\u001b[0;34m\u001b[0m\u001b[0m\n\u001b[0;32m----> 2\u001b[0;31m     \u001b[0my_predicted\u001b[0m \u001b[0;34m=\u001b[0m \u001b[0mmodel\u001b[0m\u001b[0;34m.\u001b[0m\u001b[0mpredict\u001b[0m\u001b[0;34m(\u001b[0m\u001b[0mX_test\u001b[0m\u001b[0;34m)\u001b[0m\u001b[0;34m\u001b[0m\u001b[0m\n\u001b[0m\u001b[1;32m      3\u001b[0m     \u001b[0mscore\u001b[0m \u001b[0;34m=\u001b[0m \u001b[0maccuracy_score\u001b[0m\u001b[0;34m(\u001b[0m\u001b[0my_test\u001b[0m\u001b[0;34m,\u001b[0m \u001b[0my_predicted\u001b[0m\u001b[0;34m)\u001b[0m\u001b[0;34m\u001b[0m\u001b[0m\n\u001b[1;32m      4\u001b[0m     \u001b[0;32mprint\u001b[0m\u001b[0;34m(\u001b[0m\u001b[0;34m\"Accuracy Score-  \"\u001b[0m \u001b[0;34m+\u001b[0m \u001b[0mstr\u001b[0m\u001b[0;34m(\u001b[0m\u001b[0mscore\u001b[0m\u001b[0;34m)\u001b[0m\u001b[0;34m)\u001b[0m\u001b[0;34m\u001b[0m\u001b[0m\n\u001b[1;32m      5\u001b[0m     \u001b[0mconfusion_matrix_array\u001b[0m \u001b[0;34m=\u001b[0m \u001b[0mconfusion_matrix\u001b[0m\u001b[0;34m(\u001b[0m\u001b[0my_test\u001b[0m\u001b[0;34m,\u001b[0m\u001b[0my_predicted\u001b[0m\u001b[0;34m,\u001b[0m \u001b[0mlabels\u001b[0m\u001b[0;34m=\u001b[0m\u001b[0;34m[\u001b[0m\u001b[0;34m-\u001b[0m\u001b[0;36m1\u001b[0m\u001b[0;34m,\u001b[0m\u001b[0;36m1\u001b[0m\u001b[0;34m]\u001b[0m\u001b[0;34m)\u001b[0m\u001b[0;34m\u001b[0m\u001b[0m\n",
      "\u001b[0;32m/Users/edplus/anaconda/lib/python2.7/site-packages/sklearn/ensemble/forest.pyc\u001b[0m in \u001b[0;36mpredict\u001b[0;34m(self, X)\u001b[0m\n\u001b[1;32m    532\u001b[0m             \u001b[0mThe\u001b[0m \u001b[0mpredicted\u001b[0m \u001b[0mclasses\u001b[0m\u001b[0;34m.\u001b[0m\u001b[0;34m\u001b[0m\u001b[0m\n\u001b[1;32m    533\u001b[0m         \"\"\"\n\u001b[0;32m--> 534\u001b[0;31m         \u001b[0mproba\u001b[0m \u001b[0;34m=\u001b[0m \u001b[0mself\u001b[0m\u001b[0;34m.\u001b[0m\u001b[0mpredict_proba\u001b[0m\u001b[0;34m(\u001b[0m\u001b[0mX\u001b[0m\u001b[0;34m)\u001b[0m\u001b[0;34m\u001b[0m\u001b[0m\n\u001b[0m\u001b[1;32m    535\u001b[0m \u001b[0;34m\u001b[0m\u001b[0m\n\u001b[1;32m    536\u001b[0m         \u001b[0;32mif\u001b[0m \u001b[0mself\u001b[0m\u001b[0;34m.\u001b[0m\u001b[0mn_outputs_\u001b[0m \u001b[0;34m==\u001b[0m \u001b[0;36m1\u001b[0m\u001b[0;34m:\u001b[0m\u001b[0;34m\u001b[0m\u001b[0m\n",
      "\u001b[0;32m/Users/edplus/anaconda/lib/python2.7/site-packages/sklearn/ensemble/forest.pyc\u001b[0m in \u001b[0;36mpredict_proba\u001b[0;34m(self, X)\u001b[0m\n\u001b[1;32m    571\u001b[0m         \"\"\"\n\u001b[1;32m    572\u001b[0m         \u001b[0;31m# Check data\u001b[0m\u001b[0;34m\u001b[0m\u001b[0;34m\u001b[0m\u001b[0m\n\u001b[0;32m--> 573\u001b[0;31m         \u001b[0mX\u001b[0m \u001b[0;34m=\u001b[0m \u001b[0mself\u001b[0m\u001b[0;34m.\u001b[0m\u001b[0m_validate_X_predict\u001b[0m\u001b[0;34m(\u001b[0m\u001b[0mX\u001b[0m\u001b[0;34m)\u001b[0m\u001b[0;34m\u001b[0m\u001b[0m\n\u001b[0m\u001b[1;32m    574\u001b[0m \u001b[0;34m\u001b[0m\u001b[0m\n\u001b[1;32m    575\u001b[0m         \u001b[0;31m# Assign chunk of trees to jobs\u001b[0m\u001b[0;34m\u001b[0m\u001b[0;34m\u001b[0m\u001b[0m\n",
      "\u001b[0;32m/Users/edplus/anaconda/lib/python2.7/site-packages/sklearn/ensemble/forest.pyc\u001b[0m in \u001b[0;36m_validate_X_predict\u001b[0;34m(self, X)\u001b[0m\n\u001b[1;32m    353\u001b[0m                                  \"call `fit` before exploiting the model.\")\n\u001b[1;32m    354\u001b[0m \u001b[0;34m\u001b[0m\u001b[0m\n\u001b[0;32m--> 355\u001b[0;31m         \u001b[0;32mreturn\u001b[0m \u001b[0mself\u001b[0m\u001b[0;34m.\u001b[0m\u001b[0mestimators_\u001b[0m\u001b[0;34m[\u001b[0m\u001b[0;36m0\u001b[0m\u001b[0;34m]\u001b[0m\u001b[0;34m.\u001b[0m\u001b[0m_validate_X_predict\u001b[0m\u001b[0;34m(\u001b[0m\u001b[0mX\u001b[0m\u001b[0;34m,\u001b[0m \u001b[0mcheck_input\u001b[0m\u001b[0;34m=\u001b[0m\u001b[0mTrue\u001b[0m\u001b[0;34m)\u001b[0m\u001b[0;34m\u001b[0m\u001b[0m\n\u001b[0m\u001b[1;32m    356\u001b[0m \u001b[0;34m\u001b[0m\u001b[0m\n\u001b[1;32m    357\u001b[0m     \u001b[0;34m@\u001b[0m\u001b[0mproperty\u001b[0m\u001b[0;34m\u001b[0m\u001b[0m\n",
      "\u001b[0;32m/Users/edplus/anaconda/lib/python2.7/site-packages/sklearn/tree/tree.pyc\u001b[0m in \u001b[0;36m_validate_X_predict\u001b[0;34m(self, X, check_input)\u001b[0m\n\u001b[1;32m    374\u001b[0m                              \u001b[0;34m\"match the input. Model n_features is %s and \"\u001b[0m\u001b[0;34m\u001b[0m\u001b[0m\n\u001b[1;32m    375\u001b[0m                              \u001b[0;34m\"input n_features is %s \"\u001b[0m\u001b[0;34m\u001b[0m\u001b[0m\n\u001b[0;32m--> 376\u001b[0;31m                              % (self.n_features_, n_features))\n\u001b[0m\u001b[1;32m    377\u001b[0m \u001b[0;34m\u001b[0m\u001b[0m\n\u001b[1;32m    378\u001b[0m         \u001b[0;32mreturn\u001b[0m \u001b[0mX\u001b[0m\u001b[0;34m\u001b[0m\u001b[0m\n",
      "\u001b[0;31mValueError\u001b[0m: Number of features of the model must match the input. Model n_features is 2343 and input n_features is 2342 "
     ]
    }
   ],
   "source": [
    "model = RandomForestClassifier(n_estimators=500,n_jobs=-1)\n",
    "model.fit(X_train,y_train)\n",
    "getAccuracyScore(model,X_test,y_test)\n"
   ]
  },
  {
   "cell_type": "code",
   "execution_count": null,
   "metadata": {
    "collapsed": true
   },
   "outputs": [],
   "source": [
    "print(X_test_df.shape)\n",
    "y_actual_predicted = model.predict(X_test_df)\n",
    "np.savetxt('result1.txt',y_actual_predicted)"
   ]
  },
  {
   "cell_type": "code",
   "execution_count": null,
   "metadata": {
    "collapsed": true
   },
   "outputs": [],
   "source": [
    "#gridDecisionTree = GridSearchCV(DecisionTreeClassifier(),parameters,scoring=make_scorer(accuracy_score),cv=10)"
   ]
  },
  {
   "cell_type": "code",
   "execution_count": null,
   "metadata": {
    "collapsed": true
   },
   "outputs": [],
   "source": [
    "#getAccuracyScore(decisionTreeClassifierModel)"
   ]
  },
  {
   "cell_type": "code",
   "execution_count": null,
   "metadata": {
    "collapsed": true
   },
   "outputs": [],
   "source": [
    "'''parameters = {'criterion':['gini','entropy'],\n",
    "              #'max_features':['auto','sqrt','log2','None'],\n",
    "              #'max_depth':[7,10,15],\n",
    "              #'min_samples_split':['5','10','15']\n",
    "              'max_depth':[2,5,7,10,None],\n",
    "              'max_features':[10,20,40,None],\n",
    "              'min_samples_leaf':[1,5,10],\n",
    "              'max_leaf_nodes':[100,150,200,None]\n",
    "             }\n",
    "\n",
    "decisionTreeModel = DecisionTreeClassifier()\n",
    "'''"
   ]
  },
  {
   "cell_type": "code",
   "execution_count": null,
   "metadata": {
    "collapsed": true
   },
   "outputs": [],
   "source": [
    "'''gridDecisionTree = GridSearchCV(DecisionTreeClassifier(),parameters,scoring=make_scorer(accuracy_score),cv=10)\n",
    "'''"
   ]
  },
  {
   "cell_type": "code",
   "execution_count": null,
   "metadata": {
    "collapsed": true
   },
   "outputs": [],
   "source": [
    "#gridDecisionTreeAnswer = gridDecisionTree.fit(X_train,y_train)"
   ]
  },
  {
   "cell_type": "code",
   "execution_count": null,
   "metadata": {
    "collapsed": true
   },
   "outputs": [],
   "source": []
  },
  {
   "cell_type": "code",
   "execution_count": null,
   "metadata": {
    "collapsed": true
   },
   "outputs": [],
   "source": [
    "randomForestParameters = {\n",
    "               #'criterion':['gini','entropy'],\n",
    "              'max_depth':[5,7,10,None],\n",
    "              #'max_features':[10,20,40,None],\n",
    "              'min_samples_leaf':[1,5,10],\n",
    "              'n_estimators':[50,100,500],\n",
    "              'max_leaf_nodes':[100,150,500,None]\n",
    "             }\n",
    "             # 5, 4, 3, 4, 4"
   ]
  },
  {
   "cell_type": "code",
   "execution_count": null,
   "metadata": {
    "collapsed": true
   },
   "outputs": [],
   "source": [
    "gridRandomForestModel = GridSearchCV(RandomForestClassifier(),randomForestParameters,scoring=make_scorer(accuracy_score),cv=10,n_jobs=-1)\n",
    "gridRandomForestModel.fit(X_train,y_train)"
   ]
  },
  {
   "cell_type": "code",
   "execution_count": null,
   "metadata": {
    "collapsed": true
   },
   "outputs": [],
   "source": [
    "gridRandomForestModel"
   ]
  },
  {
   "cell_type": "code",
   "execution_count": null,
   "metadata": {
    "collapsed": true
   },
   "outputs": [],
   "source": [
    "from sklearn.ensemble import RandomForestClassifier"
   ]
  },
  {
   "cell_type": "code",
   "execution_count": null,
   "metadata": {
    "collapsed": true
   },
   "outputs": [],
   "source": [
    "randomForest = RandomForestClassifier(n_estimators=50)\n",
    "randomForest.fit(X_train,y_train)\n",
    "getAccuracyScore(randomForest)"
   ]
  },
  {
   "cell_type": "code",
   "execution_count": null,
   "metadata": {
    "collapsed": true
   },
   "outputs": [],
   "source": []
  },
  {
   "cell_type": "code",
   "execution_count": null,
   "metadata": {
    "collapsed": true
   },
   "outputs": [],
   "source": [
    "svc  = SVC()\n",
    "svc.fit(X_train,y_train)\n",
    "getAccuracyScore(svc)"
   ]
  },
  {
   "cell_type": "code",
   "execution_count": null,
   "metadata": {
    "collapsed": true
   },
   "outputs": [],
   "source": [
    "from sklearn.ensemble import AdaBoostClassifier\n",
    "adaboostModel = AdaBoostClassifier()\n",
    "adaboostModel.fit(X_train,y_train)\n",
    "getAccuracyScore(adaboostModel)"
   ]
  },
  {
   "cell_type": "code",
   "execution_count": null,
   "metadata": {
    "collapsed": true
   },
   "outputs": [],
   "source": [
    "from sklearn.ensemble import GradientBoostingClassifier\n",
    "gradientModel = GradientBoostingClassifier()\n",
    "gradientModel.fit(X_train,y_train)\n",
    "getAccuracyScore(gradientModel)\n"
   ]
  },
  {
   "cell_type": "code",
   "execution_count": null,
   "metadata": {
    "collapsed": true
   },
   "outputs": [],
   "source": [
    "parameters = {'learning_rate' :[0.05,0.1,0,5],\n",
    "            'n_estimators':[100, 500]}\n",
    "\n"
   ]
  },
  {
   "cell_type": "code",
   "execution_count": 18,
   "metadata": {},
   "outputs": [
    {
     "ename": "NameError",
     "evalue": "name 'parameters' is not defined",
     "output_type": "error",
     "traceback": [
      "\u001b[0;31m---------------------------------------------------------------------------\u001b[0m",
      "\u001b[0;31mNameError\u001b[0m                                 Traceback (most recent call last)",
      "\u001b[0;32m<ipython-input-18-104992421fff>\u001b[0m in \u001b[0;36m<module>\u001b[0;34m()\u001b[0m\n\u001b[0;32m----> 1\u001b[0;31m \u001b[0mgridGradientBoostingClassifier\u001b[0m \u001b[0;34m=\u001b[0m \u001b[0mGridSearchCV\u001b[0m\u001b[0;34m(\u001b[0m\u001b[0mGradientBoostingClassifier\u001b[0m\u001b[0;34m(\u001b[0m\u001b[0;34m)\u001b[0m\u001b[0;34m,\u001b[0m\u001b[0mparameters\u001b[0m\u001b[0;34m,\u001b[0m\u001b[0mscoring\u001b[0m\u001b[0;34m=\u001b[0m\u001b[0mmake_scorer\u001b[0m\u001b[0;34m(\u001b[0m\u001b[0maccuracy_score\u001b[0m\u001b[0;34m)\u001b[0m\u001b[0;34m,\u001b[0m\u001b[0mcv\u001b[0m\u001b[0;34m=\u001b[0m\u001b[0;36m10\u001b[0m\u001b[0;34m)\u001b[0m\u001b[0;34m\u001b[0m\u001b[0m\n\u001b[0m",
      "\u001b[0;31mNameError\u001b[0m: name 'parameters' is not defined"
     ]
    }
   ],
   "source": [
    "gridGradientBoostingClassifier = GridSearchCV(GradientBoostingClassifier(),parameters,scoring=make_scorer(accuracy_score),cv=10)"
   ]
  },
  {
   "cell_type": "code",
   "execution_count": null,
   "metadata": {
    "collapsed": true
   },
   "outputs": [],
   "source": [
    "gridGradientBoostingClassifier.fit(X_train,y_train)"
   ]
  },
  {
   "cell_type": "code",
   "execution_count": null,
   "metadata": {
    "collapsed": true
   },
   "outputs": [],
   "source": []
  }
 ],
 "metadata": {
  "kernelspec": {
   "display_name": "Python 2",
   "language": "python",
   "name": "python2"
  },
  "language_info": {
   "codemirror_mode": {
    "name": "ipython",
    "version": 2
   },
   "file_extension": ".py",
   "mimetype": "text/x-python",
   "name": "python",
   "nbconvert_exporter": "python",
   "pygments_lexer": "ipython2",
   "version": "2.7.13"
  }
 },
 "nbformat": 4,
 "nbformat_minor": 2
}
